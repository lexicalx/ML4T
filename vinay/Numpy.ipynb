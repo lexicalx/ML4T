{
 "cells": [
  {
   "cell_type": "code",
   "execution_count": 1,
   "metadata": {},
   "outputs": [
    {
     "name": "stdout",
     "output_type": "stream",
     "text": [
      "[[2 3 4]\n",
      " [5 6 7]]\n"
     ]
    }
   ],
   "source": [
    "import numpy as np\n",
    "\n",
    "\n",
    "def test_run():\n",
    "\tprint np.array([(2,3,4),(5,6,7)])\n",
    "\n",
    "if __name__ == \"__main__\":\n",
    "\ttest_run()"
   ]
  },
  {
   "cell_type": "code",
   "execution_count": 2,
   "metadata": {},
   "outputs": [
    {
     "name": "stdout",
     "output_type": "stream",
     "text": [
      "[[0 0 8]\n",
      " [8 3 5]]\n"
     ]
    }
   ],
   "source": [
    "import numpy as np\n",
    "\n",
    "\n",
    "def test_run():\n",
    "\t#print np.empty(5)\n",
    "\t#print np.empty((5,4))\n",
    "\t#print np.ones(5)\n",
    "\t#print np.ones((5,4))\n",
    "\t#print np.random.random((5,4))\n",
    "\t#print np.random.rand(5,4)\n",
    "\t#print np.random.normal(50,10,size=(2,3))\n",
    "\t#print np.random.randint(10)\n",
    "\tprint np.random.randint(0,10,size=(2,3))\n",
    "\t\n",
    "\n",
    "if __name__ == \"__main__\":\n",
    "\ttest_run()\n"
   ]
  },
  {
   "cell_type": "code",
   "execution_count": 3,
   "metadata": {},
   "outputs": [
    {
     "name": "stdout",
     "output_type": "stream",
     "text": [
      "Array:\n",
      "[[2 0 5 1]\n",
      " [1 3 4 4]\n",
      " [9 2 9 1]\n",
      " [9 3 7 5]\n",
      " [4 7 0 3]]\n",
      "Sum of all elements:\n",
      "79\n",
      "Sum of each row:\n",
      "[ 8 12 21 24 14]\n",
      "Sum of each column:\n",
      "[25 15 25 14]\n",
      "Max of each row:\n",
      "[5 4 9 9 7]\n",
      "Min of each column:\n",
      "[1 0 0 1]\n",
      "Mean of all elements:\n",
      "3.95\n"
     ]
    }
   ],
   "source": [
    "import numpy as np\n",
    "\n",
    "\n",
    "def test_run():\n",
    "\t#a = np.random.random((5,4))\n",
    "\t#print a.shape[0]\n",
    "\t#print a.shape[1]\n",
    "\t#print len(a.shape)\t\t\n",
    "\t#print a.size\n",
    "\t#print a.dtype\n",
    "\n",
    "\tnp.random.seed(693)\n",
    "\ta = np.random.randint(0,10,size=(5,4))\n",
    "\tprint \"Array:\\n\",a\n",
    "\tprint \"Sum of all elements:\\n\",a.sum()\n",
    "\tprint \"Sum of each row:\\n\",a.sum(axis=1)\n",
    "\tprint \"Sum of each column:\\n\",a.sum(axis=0)\n",
    "\n",
    "\tprint \"Max of each row:\\n\",a.max(axis=1)\n",
    "\tprint \"Min of each column:\\n\",a.min(axis=0)\n",
    "\tprint \"Mean of all elements:\\n\",a.mean()\n",
    "\n",
    "if __name__ == \"__main__\":\n",
    "\ttest_run()"
   ]
  },
  {
   "cell_type": "code",
   "execution_count": 4,
   "metadata": {},
   "outputs": [
    {
     "name": "stdout",
     "output_type": "stream",
     "text": [
      "Array: [ 9  6  2  3 12 14  7 10]\n",
      "Maximum value: 14\n",
      "Index of max.: 5\n"
     ]
    }
   ],
   "source": [
    "import numpy as np\n",
    "\n",
    "\n",
    "def get_max_index(a):\n",
    "\t\"\"\"Return the index of the maximum value in given 1D array.\"\"\"\n",
    "\t# TODO: Your code here\n",
    "\treturn np.argmax(a,axis=0)\n",
    "\n",
    "def test_run():\n",
    "\ta = np.array([9, 6, 2, 3, 12, 14, 7, 10], dtype=np.int32)  # 32-bit integer array\n",
    "\tprint \"Array:\", a\n",
    "\t\n",
    "\t# Find the maximum and its index in array\n",
    "\tprint \"Maximum value:\", a.max()\n",
    "\tprint \"Index of max.:\", get_max_index(a)\n",
    "\n",
    "\n",
    "if __name__ == \"__main__\":\n",
    "\ttest_run()"
   ]
  },
  {
   "cell_type": "code",
   "execution_count": 5,
   "metadata": {},
   "outputs": [
    {
     "name": "stdout",
     "output_type": "stream",
     "text": [
      "[[4 7 9]\n",
      " [0 4 3]]\n",
      "----------------\n",
      "[9 3]\n",
      "----------------\n",
      "[4 7 9]\n",
      "----------------\n",
      "[[1 1 1]\n",
      " [0 4 3]]\n",
      "----------------\n",
      "[[1 1 9]\n",
      " [0 4 9]]\n",
      "----------------\n",
      "[[1 1 4]\n",
      " [0 4 6]]\n"
     ]
    }
   ],
   "source": [
    "import numpy as np\n",
    "\n",
    "\n",
    "\n",
    "def test_run():\n",
    "\ta = np.random.randint(0,10,size=(2,3))\n",
    "\tprint a\n",
    "\tprint \"----------------\"\n",
    "\tprint a[:,2]\n",
    "\tprint \"----------------\"\n",
    "\tprint a[0,:]\n",
    "\tprint \"----------------\"\n",
    "\tb = a\n",
    "\ta[0,:] = 1\n",
    "\tprint a\n",
    "\tprint \"----------------\"\n",
    "\tb[:,2] = 9\n",
    "\tprint b\n",
    "\tprint \"----------------\"\n",
    "\ta[:,2] = [4,6]\n",
    "\tprint a\n",
    "\n",
    "\n",
    "if __name__ == \"__main__\":\n",
    "\ttest_run()"
   ]
  },
  {
   "cell_type": "code",
   "execution_count": 6,
   "metadata": {},
   "outputs": [
    {
     "name": "stdout",
     "output_type": "stream",
     "text": [
      "1d array:\n",
      "[1 3 5 7 5]\n",
      "Array values using indices:\n",
      "[3 3 5 7]\n",
      "-------------------\n",
      "Array:\n",
      "[[1 5 6]\n",
      " [8 2 6]]\n",
      "Mean:\n",
      "4.66666666667\n",
      "Elements less than mean:\n",
      "[1 2]\n",
      "-------------------\n",
      "Array with elements less than mean replaced by mean:\n",
      "[[4 5 6]\n",
      " [8 4 6]]\n",
      "-------------------\n",
      "Multiply by 2:\n",
      "[[ 8 10 12]\n",
      " [16  8 12]]\n",
      "-------------------\n",
      "Divide by 2:\n",
      "[[2 2 3]\n",
      " [4 2 3]]\n",
      "-------------------\n",
      "a Array:\n",
      "[[4 5 6]\n",
      " [8 4 6]]\n",
      "-------------------\n",
      "b Array:\n",
      "[[17 19 16]\n",
      " [13 19 19]]\n",
      "-------------------\n",
      "Adding a+b:\n",
      "[[21 24 22]\n",
      " [21 23 25]]\n",
      "-------------------\n",
      "Subtracting b-a:\n",
      "[[13 14 10]\n",
      " [ 5 15 13]]\n",
      "-------------------\n",
      "Multiplying a*b:\n",
      "[[ 68  95  96]\n",
      " [104  76 114]]\n",
      "-------------------\n",
      "Dividing b/a:\n",
      "[[4 3 2]\n",
      " [1 4 3]]\n",
      "-------------------\n"
     ]
    }
   ],
   "source": [
    "import numpy as np\n",
    "\n",
    "\n",
    "\n",
    "def test_run():\n",
    "\ta = np.random.randint(0,10,size=(5))\n",
    "\tprint \"1d array:\\n\",a\n",
    "\tindices = np.array([1,1,2,3])\n",
    "\tprint \"Array values using indices:\\n\",a[indices]\n",
    "\t\n",
    "\tprint \"-------------------\"\n",
    "\ta = np.random.randint(0,10,size=(2,3))\n",
    "\tprint \"Array:\\n\",a\n",
    "\tmean = a.mean()\n",
    "\tprint \"Mean:\\n\",mean\n",
    "\tprint \"Elements less than mean:\\n\",a[a<mean]\n",
    "\t\n",
    "\tprint \"-------------------\"\n",
    "\ta[a<mean] = mean\n",
    "\tprint \"Array with elements less than mean replaced by mean:\\n\",a\n",
    "\n",
    "\tprint \"-------------------\"\n",
    "\tprint \"Multiply by 2:\\n\",a*2\n",
    "\tprint \"-------------------\"\n",
    "\tprint \"Divide by 2:\\n\",a/2\n",
    "\n",
    "\tb = np.random.randint(10,20,size=(2,3))\n",
    "\tprint \"-------------------\"\n",
    "\tprint \"a Array:\\n\",a\n",
    "\tprint \"-------------------\"\n",
    "\tprint \"b Array:\\n\",b\n",
    "\tprint \"-------------------\"\n",
    "\tprint \"Adding a+b:\\n\",a+b\n",
    "\tprint \"-------------------\"\n",
    "\tprint \"Subtracting b-a:\\n\",b-a\n",
    "\tprint \"-------------------\"\n",
    "\tprint \"Multiplying a*b:\\n\",a*b\n",
    "\tprint \"-------------------\"\n",
    "\tprint \"Dividing b/a:\\n\",b/a\n",
    "\tprint \"-------------------\"\n",
    "\t#print \"Matrix multiplication a.b\\n\",np.dot(a,b)\n",
    "\n",
    "if __name__ == \"__main__\":\n",
    "\ttest_run()"
   ]
  }
 ],
 "metadata": {
  "kernelspec": {
   "display_name": "Python 2",
   "language": "python",
   "name": "python2"
  },
  "language_info": {
   "codemirror_mode": {
    "name": "ipython",
    "version": 2
   },
   "file_extension": ".py",
   "mimetype": "text/x-python",
   "name": "python",
   "nbconvert_exporter": "python",
   "pygments_lexer": "ipython2",
   "version": "2.7.12"
  }
 },
 "nbformat": 4,
 "nbformat_minor": 2
}
