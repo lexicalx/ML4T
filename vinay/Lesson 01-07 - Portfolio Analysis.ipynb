{
 "cells": [
  {
   "cell_type": "markdown",
   "metadata": {},
   "source": [
    "# Lesson 01-07: Portfolio Analysis\n",
    "\n",
    "\n",
    "Udacity: https://classroom.udacity.com/courses/ud501/lessons/4242038556/concepts/46416853870923\n",
    "\n",
    "## Overview\n",
    "\n",
    "Portfolio is an allocation of funds to a set of stocks\n",
    "\n",
    "## Daily Portfolio Value\n",
    "\n",
    "start_val = 1000000\n",
    "\n",
    "start_date = 2009-01-01\n",
    "\n",
    "end_date = 2010-12-31\n",
    "\n",
    "symbols = ['SPY','XOM','GOOG','GLD']\n",
    "\n",
    "allocs = [0.4,0.4,0.1,0.1]\n",
    "\n",
    "* Step 1: Get prices dataframe\n",
    "* Step 2: Normalize prices -> normed = prices/prices[0]\n",
    "* Step 3: Get allocations -> alloced = allocs * normed\n",
    "* Step 4: Get positions values -> pos_vals = alloced * start_val\n",
    "* Step 5: Get daily portfolio value -> Sum of pos_vals for each day -> port_val = pos_vals.sum(axis=1)\n",
    "\n",
    "## Portfolio Statistics\n",
    "\n",
    "* Ignore first row of daily returns because it will be 0 -> daily_returns = daily_returns[1:]\n",
    "* cumulative_return = (port_val[-1]/port_val[0])-1\n",
    "* avg_daily_return = daily_returns.mean()\n",
    "* std_daily_return = daily_returns.std()\n",
    "\n",
    "\n",
    "## Sharpe ratio\n",
    "\n",
    "is risk adjusted return\n",
    "\n",
    "All else being equal:\n",
    "* lower risk is better\n",
    "* higher return is better\n",
    "\n",
    "SR also considers risk free rate of return (interest rate you would get on your money when invested in a risk free asset like a bank account or a short term treasury)\n",
    "\n",
    "S = E(R~p-R~f)/STD(R~p-R~f)\n",
    "\n",
    "Sharpe ratio = (Expected value of Portfolio returns - Expected value of Risk free rate of return)/ Std Dev of the same\n",
    "\n",
    "S = mean(daily_returns - daily_rf)/std(daily_returns - daily_rf)\n",
    "\n",
    "What is the RFR value to use? \n",
    "\n",
    "* LIBOR (London Inter Bank Offer Rate)\n",
    "* Interest rate on the 3 month Treasury bill\n",
    "* 0\n",
    "\n",
    "Traditional shortcur\n",
    "\n",
    "daily_rf = 252nd sqrt of (amount+annual_rate)-1\n",
    "\n",
    "S = mean(daily_returns - daily_rf)/std(daily_returns)\n",
    "\n",
    "Sharpe ratio can vary widely based on how frequently you sample\n",
    "\n",
    "Typically, SR is an annual measure\n",
    "\n",
    "SR~annualized = K * SR\n",
    "\n",
    "where K = sqrt{# of samples}\n",
    "\n",
    "* Daily samples -> K = \\sqrt{252}\n",
    "* Weekly samples -> K = \\sqrt{52}\n",
    "* Monthly samples -> K = \\sqrt{12}\n",
    "\n",
    "So, if we are using daily data\n",
    "\n",
    "SR = \\sqrt{#252} * mean(daily_returns - daily_rf)/std(daily_returns)\n",
    "\n",
    "1 bps = 1/100th of 1% = 0.0001\n",
    "\n",
    "Example:\n",
    "\n",
    "60 days of data\n",
    "\n",
    "avg_daily_return = 10bps = 0.001\n",
    "\n",
    "daily_risk_free_return = 2bps = 0.0002\n",
    "\n",
    "std_daily_return = 10bps = 0.001\n",
    "\n",
    "SR = \\sqrt{#252} *  (avg_daily_return-daily_risk_free_return)/std_daily_return\n"
   ]
  },
  {
   "cell_type": "code",
   "execution_count": 4,
   "metadata": {},
   "outputs": [
    {
     "data": {
      "text/plain": [
       "12.699606293110037"
      ]
     },
     "execution_count": 4,
     "metadata": {},
     "output_type": "execute_result"
    }
   ],
   "source": [
    "import math\n",
    "\n",
    "math.sqrt(252)*(0.001-0.0002)/0.001"
   ]
  }
 ],
 "metadata": {
  "kernelspec": {
   "display_name": "Python 2",
   "language": "python",
   "name": "python2"
  },
  "language_info": {
   "codemirror_mode": {
    "name": "ipython",
    "version": 2
   },
   "file_extension": ".py",
   "mimetype": "text/x-python",
   "name": "python",
   "nbconvert_exporter": "python",
   "pygments_lexer": "ipython2",
   "version": "2.7.12"
  }
 },
 "nbformat": 4,
 "nbformat_minor": 2
}
