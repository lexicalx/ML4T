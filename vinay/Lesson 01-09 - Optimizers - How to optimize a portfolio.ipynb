{
 "cells": [
  {
   "cell_type": "markdown",
   "metadata": {},
   "source": [
    "# Optimizers : Building a parameterized model\n",
    "\n",
    "https://classroom.udacity.com/courses/ud501/lessons/4340498935/concepts/46723346130923\n",
    "\n",
    "\n",
    "## What is portfolio optimization?\n",
    "\n",
    "Given a set of assets and a time period, find an allocation of funds to assets that maximizes the portfolio performance.\n",
    "\n",
    "What is performance? Could be cumulative returns, volatility or risk, and risk adjusted return (sharpe ratio)\n",
    "\n",
    "## Simplest optimizer\n",
    "\n",
    "Look at cumulative returns and assign 100% of funds to the asset with the highest cumulative returns\n",
    "\n",
    "\n",
    "\n"
   ]
  }
 ],
 "metadata": {
  "kernelspec": {
   "display_name": "Python 2",
   "language": "python",
   "name": "python2"
  },
  "language_info": {
   "codemirror_mode": {
    "name": "ipython",
    "version": 2
   },
   "file_extension": ".py",
   "mimetype": "text/x-python",
   "name": "python",
   "nbconvert_exporter": "python",
   "pygments_lexer": "ipython2",
   "version": "2.7.12"
  }
 },
 "nbformat": 4,
 "nbformat_minor": 2
}
